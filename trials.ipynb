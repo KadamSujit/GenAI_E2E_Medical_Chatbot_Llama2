{
 "cells": [
  {
   "cell_type": "code",
   "execution_count": 1,
   "metadata": {},
   "outputs": [
    {
     "name": "stdout",
     "output_type": "stream",
     "text": [
      "All OK!\n"
     ]
    }
   ],
   "source": [
    "print(\"All OK!\")"
   ]
  },
  {
   "cell_type": "code",
   "execution_count": 2,
   "metadata": {},
   "outputs": [
    {
     "name": "stderr",
     "output_type": "stream",
     "text": [
      "f:\\Python_Classes\\NLP_alldata\\GenerativeAI\\Day012_Day013_E2E_Project_MedicalChatBot\\GenAI_E2E_Medical_Chatbot_Llama2\\mchatbot\\lib\\site-packages\\pinecone\\data\\index.py:1: TqdmWarning: IProgress not found. Please update jupyter and ipywidgets. See https://ipywidgets.readthedocs.io/en/stable/user_install.html\n",
      "  from tqdm.autonotebook import tqdm\n"
     ]
    }
   ],
   "source": [
    "#importing required libraries\n",
    "from langchain import PromptTemplate #for templating\n",
    "from langchain.chains import RetrievalQA #for retrieving ans\n",
    "from langchain.embeddings import HuggingFaceEmbeddings #for creating embeddings\n",
    "from langchain.vectorstores import Pinecone #for storing vectordb\n",
    "import pinecone\n",
    "from langchain.document_loaders import PyMuPDFLoader, DirectoryLoader #for pdf and dir loading\n",
    "from langchain.text_splitter import RecursiveCharacterTextSplitter #for creating chunks\n",
    "from langchain.prompts import PromptTemplate #for prompting\n",
    "from langchain.llms import CTransformers #quantized model"
   ]
  },
  {
   "cell_type": "code",
   "execution_count": null,
   "metadata": {},
   "outputs": [],
   "source": []
  }
 ],
 "metadata": {
  "kernelspec": {
   "display_name": "Python 3",
   "language": "python",
   "name": "python3"
  },
  "language_info": {
   "codemirror_mode": {
    "name": "ipython",
    "version": 3
   },
   "file_extension": ".py",
   "mimetype": "text/x-python",
   "name": "python",
   "nbconvert_exporter": "python",
   "pygments_lexer": "ipython3",
   "version": "3.8.18"
  }
 },
 "nbformat": 4,
 "nbformat_minor": 2
}
