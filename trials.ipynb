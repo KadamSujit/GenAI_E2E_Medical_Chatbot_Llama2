{
 "cells": [
  {
   "cell_type": "code",
   "execution_count": 1,
   "metadata": {},
   "outputs": [
    {
     "name": "stdout",
     "output_type": "stream",
     "text": [
      "All OK!\n"
     ]
    }
   ],
   "source": [
    "print(\"All OK!\")"
   ]
  },
  {
   "cell_type": "code",
   "execution_count": 4,
   "metadata": {},
   "outputs": [],
   "source": [
    "#importing required libraries\n",
    "from langchain import PromptTemplate #for templating\n",
    "from langchain.chains import RetrievalQA #for retrieving ans\n",
    "from langchain.embeddings import HuggingFaceEmbeddings #for creating embeddings\n",
    "from langchain.vectorstores import Pinecone #for storing vectordb\n",
    "import pinecone\n",
    "from langchain.document_loaders import PyPDFLoader, DirectoryLoader #for pdf and dir loading\n",
    "from langchain.text_splitter import RecursiveCharacterTextSplitter #for creating chunks\n",
    "from langchain.prompts import PromptTemplate #for prompting\n",
    "from langchain.llms import CTransformers #quantized model"
   ]
  },
  {
   "cell_type": "code",
   "execution_count": 3,
   "metadata": {},
   "outputs": [],
   "source": [
    "#setting up pinecone database\n",
    "PINECOND_API_KEY=\"34ce10a9-bb10-4fbb-854c-7ae3799d8d07\"\n",
    "PINECONE_API_ENV=\"gcp-starter\""
   ]
  },
  {
   "cell_type": "code",
   "execution_count": null,
   "metadata": {},
   "outputs": [],
   "source": [
    "#loading data\n",
    "#Extracting data from pdf\n",
    "def load_pdf(data):\n",
    "    loader = DirectoryLoader(data,\n",
    "                    glob=\"*.pdf\", #loads all pdf files from thd directory\n",
    "                    loader_cls=PyPDFLoader) #lodar class is PyPDFLoader to load the pdfs\n",
    "    documents = loader.load()\n",
    "    return documents\n"
   ]
  },
  {
   "cell_type": "code",
   "execution_count": null,
   "metadata": {},
   "outputs": [],
   "source": []
  }
 ],
 "metadata": {
  "kernelspec": {
   "display_name": "Python 3",
   "language": "python",
   "name": "python3"
  },
  "language_info": {
   "codemirror_mode": {
    "name": "ipython",
    "version": 3
   },
   "file_extension": ".py",
   "mimetype": "text/x-python",
   "name": "python",
   "nbconvert_exporter": "python",
   "pygments_lexer": "ipython3",
   "version": "3.8.18"
  }
 },
 "nbformat": 4,
 "nbformat_minor": 2
}
